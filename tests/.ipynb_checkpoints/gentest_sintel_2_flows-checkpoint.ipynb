{
 "cells": [
  {
   "cell_type": "code",
   "execution_count": 8,
   "metadata": {
    "scrolled": true
   },
   "outputs": [
    {
     "name": "stdout",
     "output_type": "stream",
     "text": [
      "load lists from files\n",
      "Creating train generator with 1018 samples.\n",
      "show flow\n"
     ]
    },
    {
     "data": {
      "image/png": "[encoded data removed]",
      "text/plain": [
       "<PIL.Image.Image image mode=L size=64x64 at 0x7F0A2A1537F0>"
      ]
     },
     "metadata": {},
     "output_type": "display_data"
    },
    {
     "data": {
      "image/png": "[encoded data removed]",
      "text/plain": [
       "<PIL.Image.Image image mode=L size=64x64 at 0x7F0A2A153940>"
      ]
     },
     "metadata": {},
     "output_type": "display_data"
    },
    {
     "data": {
      "image/png": "[encoded data removed]",
      "text/plain": [
       "<PIL.Image.Image image mode=L size=64x64 at 0x7F0A2A1536A0>"
      ]
     },
     "metadata": {},
     "output_type": "display_data"
    },
    {
     "data": {
      "image/png": "[encoded data removed]",
      "text/plain": [
       "<PIL.Image.Image image mode=L size=64x64 at 0x7F0A2A1536D8>"
      ]
     },
     "metadata": {},
     "output_type": "display_data"
    }
   ],
   "source": [
    "import numpy as np\n",
    "import sys\n",
    "sys.path.append('/home/linkermann/Desktop/MA/opticalFlow/opticalFlowGAN')\n",
    "import tflib as lib\n",
    "import tflib.save_images\n",
    "import tflib.SINTELdataDesktop as sintel\n",
    "from IPython.core.display import Image, display\n",
    "import PIL\n",
    "%matplotlib inline\n",
    "import matplotlib.pyplot as plt\n",
    "\n",
    "\n",
    "def show(image): # to show np array as image\n",
    "    a = (image).astype(np.uint8)\n",
    "    display(PIL.Image.fromarray(a))\n",
    "\n",
    "BATCH_SIZE = 10 # Batch size\n",
    "TARGET_SIZE = 64\n",
    "OUT_DIM = TARGET_SIZE*TARGET_SIZE*3\n",
    "OUT_DIM_FLOW = TARGET_SIZE*TARGET_SIZE*2\n",
    "\n",
    "gen = sintel.load_train_gen(BATCH_SIZE,(TARGET_SIZE, TARGET_SIZE, 3))\n",
    "#(batch_size, seqLength, classLimit, imageShape):\n",
    "_data, _flow = next(gen)\n",
    "#print(_data.shape) \n",
    "#print(_flow.shape)\n",
    "# images: (n, 6144) -- 3072 + 3072 = two images for 32\n",
    "# flows: (n, 4096) -- 2048 + 2048 = two flows for 32\n",
    "            \n",
    "images = _data[0]\n",
    "#print(type(images))   np ndarray\n",
    "#print(images.dtype)  uint8\n",
    "\n",
    "image1= images[0:OUT_DIM]\n",
    "image2= images[OUT_DIM-1:]\n",
    "# print(image1.shape)  # (outdim,) # (3072,) for 32\n",
    "image1 = image1.reshape(TARGET_SIZE,TARGET_SIZE,3)\n",
    "# show(image1) # doesnt give nice picture anymore, look in data/gentest folder..\n",
    "outpath = \"/home/linkermann/Desktop/MA/opticalFlow/opticalFlowGAN/data/gentest/sample_sintel_\"\n",
    "tflib.save_images.save_images(image1.reshape((1,3,TARGET_SIZE,TARGET_SIZE)), outpath+\"8.jpg\")\n",
    "\n",
    "\n",
    "flows = _flow[0]\n",
    "flow1 = flows[0:OUT_DIM_FLOW]\n",
    "flow2 = flows[OUT_DIM_FLOW:]\n",
    "#print(flow1.shape)  # (2048,) for 32\n",
    "#print(flow2.shape)   #(2048,) for 32\n",
    "flow1 = flow1.reshape(TARGET_SIZE,TARGET_SIZE,2)\n",
    "flow2 = flow2.reshape(TARGET_SIZE,TARGET_SIZE,2)\n",
    "print(\"show flow\")\n",
    "show(flow1[:,:,0])\n",
    "show(flow1[:,:,1])\n",
    "show(flow2[:,:,0])\n",
    "show(flow2[:,:,1])\n",
    "\n",
    "#plt.imshow(image1/255.)\n"
   ]
  },
  {
   "cell_type": "code",
   "execution_count": 4,
   "metadata": {},
   "outputs": [
    {
     "name": "stdout",
     "output_type": "stream",
     "text": [
      "Next category @ 48\n",
      "\n",
      "Next category @ 97\n",
      "\n",
      "Next category @ 117\n",
      "\n",
      "Next category @ 149\n",
      "\n",
      "Next category @ 198\n",
      "\n",
      "Next category @ 217\n",
      "\n",
      "Next category @ 266\n",
      "\n",
      "Next category @ 315\n",
      "\n",
      "Next category @ 364\n",
      "\n",
      "Next category @ 413\n",
      "\n",
      "Next category @ 462\n",
      "\n",
      "Next category @ 511\n",
      "\n",
      "Next category @ 560\n",
      "\n",
      "Next category @ 609\n",
      "\n",
      "Next category @ 658\n",
      "\n",
      "Next category @ 697\n",
      "\n",
      "Next category @ 746\n",
      "\n",
      "Next category @ 795\n",
      "\n",
      "Next category @ 844\n",
      "\n",
      "Next category @ 893\n",
      "\n",
      "Next category @ 942\n",
      "\n",
      "Next category @ 991\n",
      "\n",
      "Next category @ 1040\n",
      "\n"
     ]
    }
   ],
   "source": [
    "from glob import glob\n",
    "from os.path import join, isfile\n",
    "\n",
    "\n",
    "def get_category_from_path(path):\n",
    "    parts = path.split('/')\n",
    "    return parts[-2]\n",
    "\n",
    "root = '/home/linkermann/Desktop/MA/data/SINTEL/training/'\n",
    "flow_root = join(root, 'flow')\n",
    "image_root = join(root, 'clean')\n",
    "validation_image_root = join(root, 'final')\n",
    "flow_paths = join(root, 'flow/*/*.flo')\n",
    "file_list = glob(flow_paths)\n",
    "sorted_file_list= sorted(file_list)\n",
    "\n",
    "lenli = len(sorted_file_list)\n",
    "for i, file in enumerate(sorted_file_list):\n",
    "    nextelem = sorted_file_list[(i+1)%lenli]\n",
    "    if(not(get_category_from_path(file) == get_category_from_path(nextelem))):\n",
    "        print(\"Next category @ \"+ str(i) + \"\\n\")"
   ]
  },
  {
   "cell_type": "code",
   "execution_count": null,
   "metadata": {},
   "outputs": [],
   "source": []
  }
 ],
 "metadata": {
  "kernelspec": {
   "display_name": "Python 3",
   "language": "python",
   "name": "python3"
  },
  "language_info": {
   "codemirror_mode": {
    "name": "ipython",
    "version": 3
   },
   "file_extension": ".py",
   "mimetype": "text/x-python",
   "name": "python",
   "nbconvert_exporter": "python",
   "pygments_lexer": "ipython3",
   "version": "3.5.5"
  }
 },
 "nbformat": 4,
 "nbformat_minor": 2
}
