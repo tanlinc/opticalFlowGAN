{
 "cells": [
  {
   "cell_type": "code",
   "execution_count": 2,
   "metadata": {},
   "outputs": [
    {
     "name": "stdout",
     "output_type": "stream",
     "text": [
      "(230400,)\n"
     ]
    }
   ],
   "source": [
    "from keras.preprocessing.image import img_to_array, load_img\n",
    "import numpy as np\n",
    "import sys\n",
    "sys.path.append('/home/linkermann/Desktop/MA/opticalFlow/opticalFlowGAN')\n",
    "import tflib.save_images\n",
    "import IPython.core.display\n",
    "import PIL\n",
    "\n",
    "def process_image(image, target_shape):\n",
    "    \"\"\"Given an image, process it and return the array.\"\"\"\n",
    "    # Load the image.\n",
    "    h, w, c = target_shape\n",
    "    image = load_img(image, target_size=(h, w))\n",
    "    # Turn it into numpy, normalize and return.\n",
    "    img_arr = img_to_array(image)\n",
    "    x = img_arr.astype(np.uint8)\n",
    "    #print(x.shape)\n",
    "    \n",
    "    x = x.reshape(h,w,c)\n",
    "    x  = np.transpose(x, [2,0,1]) #(3,32,32)\n",
    "    x = x.reshape(h*w*c,)\n",
    "    return x\n",
    "\n",
    "\n",
    "def rgb2gray(rgb):\n",
    "    return np.dot(rgb[...,:3], [0.299, 0.587, 0.114])\n",
    "\n",
    "def show(image): # to show np array as image\n",
    "    x = image.astype(np.uint8)\n",
    "    IPython.display.display(PIL.Image.fromarray(x))\n",
    "\n",
    "inpath = \"/home/linkermann/Desktop/MA/data/train/ApplyEyeMakeup/v_ApplyEyeMakeup_g08_c01-0008.jpg\"\n",
    "outpath = \"/home/linkermann/Desktop/MA/opticalFlow/opticalFlowGAN/data/downsampletest/v_ApplyEyeMakeup_g08_c01-0008\"\n",
    "\n",
    "#display(Image(\"/home/linkermann/Desktop/MA/data/train/ApplyEyeMakeup/v_ApplyEyeMakeup_g08_c01-0008.jpg\"))\n",
    "\n",
    "image1 = process_image(inpath, (320,240, 3))\n",
    "# show(image1)\n",
    "# print(image1.shape)\n",
    "#image1t = np.transpose(image1, [2,0,1])\n",
    "tflib.save_images.save_images(image1.reshape((1,3,320,240)), outpath+\"-1.jpg\")\n",
    "\n",
    "g = image1.astype(np.float)\n",
    "image_grey = rgb2gray(g)\n",
    "#show(image_grey)\n",
    "#tflib.save_images.save_images(image_grey, outpath+\"-1-grey.jpg\")  # not working atm\n",
    "\n",
    "image2 = process_image(inpath, (32,32,3))\n",
    "#image2  = np.transpose(image2, [2,0,1])\n",
    "tflib.save_images.save_images(image2.reshape((1,3,32,32)), outpath+\"-2.jpg\")\n",
    "\n",
    "image3 = process_image(inpath, (40,40,3))\n",
    "#image3  = np.transpose(image3, [2,0,1])\n",
    "tflib.save_images.save_images(image3.reshape((1,3,40,40)), outpath+\"-3.jpg\")\n",
    "\n",
    "image4 = process_image(inpath, (64,64,3))\n",
    "#image4  = np.transpose(image4, [2,0,1])\n",
    "tflib.save_images.save_images(image4.reshape((1,3,64,64)), outpath+\"-4.jpg\")\n",
    "\n"
   ]
  },
  {
   "cell_type": "code",
   "execution_count": null,
   "metadata": {},
   "outputs": [],
   "source": []
  }
 ],
 "metadata": {
  "kernelspec": {
   "display_name": "Python 2",
   "language": "python",
   "name": "python2"
  },
  "language_info": {
   "codemirror_mode": {
    "name": "ipython",
    "version": 2
   },
   "file_extension": ".py",
   "mimetype": "text/x-python",
   "name": "python",
   "nbconvert_exporter": "python",
   "pygments_lexer": "ipython2",
   "version": "2.7.15"
  }
 },
 "nbformat": 4,
 "nbformat_minor": 2
}
