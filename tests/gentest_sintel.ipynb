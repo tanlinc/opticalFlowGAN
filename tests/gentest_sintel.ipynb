{
 "cells": [
  {
   "cell_type": "code",
   "execution_count": 11,
   "metadata": {
    "scrolled": true
   },
   "outputs": [
    {
     "name": "stdout",
     "output_type": "stream",
     "text": [
      "Creating train generator with 1041 samples.\n",
      "(10, 60000)\n",
      "(30000,)\n"
     ]
    }
   ],
   "source": [
    "import numpy as np\n",
    "import sys\n",
    "sys.path.append('/home/linkermann/Desktop/MA/opticalFlow/opticalFlowGAN')\n",
    "import tflib as lib\n",
    "import tflib.save_images\n",
    "import tflib.SINTELdataDesktop as sintel\n",
    "from IPython.core.display import Image, display\n",
    "import PIL\n",
    "%matplotlib inline\n",
    "import matplotlib.pyplot as plt\n",
    "\n",
    "\n",
    "def show(image): # to show np array as image\n",
    "    a = (image).astype(np.uint8)\n",
    "    display(PIL.Image.fromarray(a))\n",
    "\n",
    "\n",
    "BATCH_SIZE = 10 # Batch size\n",
    "TARGET_SIZE = 100\n",
    "OUT_DIM = TARGET_SIZE*TARGET_SIZE*3\n",
    "\n",
    "gen = sintel.load_train_gen(BATCH_SIZE,(TARGET_SIZE, TARGET_SIZE, 3))\n",
    "#(batch_size, seqLength, classLimit, imageShape):\n",
    "_data, _ = next(gen)\n",
    "print(_data.shape)\n",
    "            \n",
    "images = _data[0]\n",
    "#print(type(images))   np ndarray\n",
    "#print(images.dtype)  uint8\n",
    "\n",
    "image1= images[0:OUT_DIM]\n",
    "image2= images[OUT_DIM-1:]\n",
    "print(image1.shape)  # (outdim,)\n",
    "image1 = image1.reshape(TARGET_SIZE,TARGET_SIZE,3)\n",
    "#show(image1) # doesnt give nice picture anymore\n",
    "outpath = \"/home/linkermann/Desktop/MA/opticalFlow/opticalFlowGAN/data/gentest/sample_sintel_\"\n",
    "tflib.save_images.save_images(image1.reshape((1,3,TARGET_SIZE,TARGET_SIZE)), outpath+\"5.jpg\")\n",
    "\n",
    "#plt.imshow(image1/255.)\n"
   ]
  },
  {
   "cell_type": "code",
   "execution_count": null,
   "metadata": {},
   "outputs": [],
   "source": []
  }
 ],
 "metadata": {
  "kernelspec": {
   "display_name": "Python 2",
   "language": "python",
   "name": "python2"
  },
  "language_info": {
   "codemirror_mode": {
    "name": "ipython",
    "version": 2
   },
   "file_extension": ".py",
   "mimetype": "text/x-python",
   "name": "python",
   "nbconvert_exporter": "python",
   "pygments_lexer": "ipython2",
   "version": "2.7.15"
  }
 },
 "nbformat": 4,
 "nbformat_minor": 2
}
