{
 "cells": [
  {
   "cell_type": "code",
   "execution_count": 9,
   "metadata": {
    "scrolled": true
   },
   "outputs": [
    {
     "name": "stdout",
     "output_type": "stream",
     "text": [
      "Creating train generator with 110 samples.\n"
     ]
    }
   ],
   "source": [
    "import numpy as np\n",
    "import sys\n",
    "sys.path.append('/home/linkermann/Desktop/MA/opticalFlow/opticalFlowGAN')\n",
    "import tflib as lib\n",
    "import tflib.save_images\n",
    "import tflib.processor as proc\n",
    "import tflib.UCFdataDesktop\n",
    "from keras.preprocessing.image import img_to_array\n",
    "from IPython.core.display import Image, display\n",
    "import PIL\n",
    "\n",
    "%matplotlib inline\n",
    "from keras.preprocessing import image\n",
    "import matplotlib.pyplot as plt\n",
    "\n",
    "def show(image): # to show np array as image\n",
    "    a = (image).astype(np.uint8)\n",
    "    display(PIL.Image.fromarray(a))\n",
    "\n",
    "\n",
    "BATCH_SIZE = 10 # Batch size\n",
    "gen = lib.UCFdataDesktop.load_train_gen(BATCH_SIZE, 1, 1, (64,64,3)) #(batch_size, seqLength, classLimit, imageShape):\n",
    "\n",
    "_data, _ = next(gen)\n",
    "#print(_data.shape)\n",
    "            \n",
    "image1 = _data[0]\n",
    "# print(image1[0:1024])\n",
    "# print(type(image1))\n",
    "# print(image1.dtype)\n",
    "# print(image1.shape))\n",
    "#image1 = image1.reshape(32,32,3)\n",
    "#show(image1) # doesnt give nice picture anymore\n",
    "outpath = \"/home/linkermann/Desktop/MA/opticalFlow/opticalFlowGAN/data/gentest/sample_blub_\"\n",
    "tflib.save_images.save_images(image1.reshape((1,3,64,64)), outpath+\"10.jpg\")\n",
    "\n",
    "\n",
    "\n",
    "#print(type(image1))\n",
    "#x = image.img_to_array(image1)\n",
    "#print(image1.shape)\n",
    "#plt.imshow(image1/255.)\n"
   ]
  },
  {
   "cell_type": "code",
   "execution_count": 1,
   "metadata": {},
   "outputs": [],
   "source": [
    "import numpy as np\n",
    "\n",
    "import os\n",
    "import urllib\n",
    "import gzip\n",
    "import pickle\n",
    "\n",
    "\n",
    "def unpickle(file):\n",
    "    with open(file, 'rb') as fo:\n",
    "        dict = pickle.load(fo,  encoding='bytes')\n",
    "    return dict[b'data'], dict[b'labels']\n",
    "\n",
    "#data, labels = unpickle(data_dir + '/' + filename)\n",
    "#print(data[0])\n"
   ]
  },
  {
   "cell_type": "code",
   "execution_count": null,
   "metadata": {},
   "outputs": [],
   "source": []
  }
 ],
 "metadata": {
  "kernelspec": {
   "display_name": "Python 2",
   "language": "python",
   "name": "python2"
  },
  "language_info": {
   "codemirror_mode": {
    "name": "ipython",
    "version": 2
   },
   "file_extension": ".py",
   "mimetype": "text/x-python",
   "name": "python",
   "nbconvert_exporter": "python",
   "pygments_lexer": "ipython2",
   "version": "2.7.15"
  }
 },
 "nbformat": 4,
 "nbformat_minor": 2
}
