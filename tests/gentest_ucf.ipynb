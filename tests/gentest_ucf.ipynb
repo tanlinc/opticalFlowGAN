{
 "cells": [
  {
   "cell_type": "code",
   "execution_count": 17,
   "metadata": {
    "scrolled": true
   },
   "outputs": [
    {
     "name": "stdout",
     "output_type": "stream",
     "text": [
      "Creating train generator with 336 samples.\n",
      "(10, 3072)\n",
      "(3072,)\n"
     ]
    },
    {
     "data": {
      "image/png": "[encoded data removed]",
      "text/plain": [
       "<PIL.Image.Image image mode=RGB size=32x32 at 0x7F521F85A3D0>"
      ]
     },
     "metadata": {},
     "output_type": "display_data"
    }
   ],
   "source": [
    "import numpy as np\n",
    "import tflib as lib\n",
    "import tflib.save_images\n",
    "import tflib.processor as proc\n",
    "import tflib.UCFdataDesktop\n",
    "from keras.preprocessing.image import img_to_array\n",
    "from IPython.core.display import Image, display\n",
    "import PIL\n",
    "\n",
    "def show(image): # to show np array as image\n",
    "    a = (image*255).astype(np.uint8)\n",
    "    display(PIL.Image.fromarray(a))\n",
    "\n",
    "\n",
    "BATCH_SIZE = 10 # Batch size\n",
    "gen = lib.UCFdataDesktop.load_train_gen(BATCH_SIZE, 1, 4, (32,32,3)) #(batch_size, seqLength, classLimit, imageShape):\n",
    "\n",
    "_data, _ = next(gen)\n",
    "print(_data.shape)\n",
    "            \n",
    "image1 = _data[0]\n",
    "print(image1.shape)\n",
    "image1 = image1.reshape(32,32,3)\n",
    "show(image1)\n",
    "image1  = np.transpose(image1, [2,0,1])\n",
    "outpath = \"/home/linkermann/Desktop/MA/opticalFlow/opticalFlowGAN/data/gentest/sample_blub_\"\n",
    "tflib.save_images.save_images(image1.reshape((1,3,32,32)), outpath+\"10.jpg\")"
   ]
  },
  {
   "cell_type": "code",
   "execution_count": null,
   "metadata": {},
   "outputs": [],
   "source": []
  },
  {
   "cell_type": "code",
   "execution_count": null,
   "metadata": {},
   "outputs": [],
   "source": []
  }
 ],
 "metadata": {
  "kernelspec": {
   "display_name": "Python 2",
   "language": "python",
   "name": "python2"
  },
  "language_info": {
   "codemirror_mode": {
    "name": "ipython",
    "version": 2
   },
   "file_extension": ".py",
   "mimetype": "text/x-python",
   "name": "python",
   "nbconvert_exporter": "python",
   "pygments_lexer": "ipython2",
   "version": "2.7.15"
  }
 },
 "nbformat": 4,
 "nbformat_minor": 2
}
